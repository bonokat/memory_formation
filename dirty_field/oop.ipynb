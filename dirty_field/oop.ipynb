{
 "cells": [
  {
   "cell_type": "code",
   "execution_count": 4,
   "metadata": {},
   "outputs": [],
   "source": [
    "import os\n",
    "from typing import *\n",
    "import math"
   ]
  },
  {
   "cell_type": "code",
   "execution_count": 2,
   "metadata": {},
   "outputs": [
    {
     "data": {
      "text/plain": [
       "25"
      ]
     },
     "execution_count": 2,
     "metadata": {},
     "output_type": "execute_result"
    }
   ],
   "source": [
    "def square(a: int): # a is an argument of type int of a function with a name \"square\"\n",
    "    return a**2\n",
    "\n",
    "square(5) # 5 is a parameter"
   ]
  },
  {
   "cell_type": "code",
   "execution_count": 3,
   "metadata": {},
   "outputs": [],
   "source": [
    "class Foo(object):\n",
    "    def __init__(\n",
    "        self,\n",
    "        a: int # a is an argument\n",
    "    ):\n",
    "        self.b = a # b is an attribute\n",
    "\n",
    "a = Foo(1) # 1 is a parameteer"
   ]
  },
  {
   "cell_type": "code",
   "execution_count": null,
   "metadata": {},
   "outputs": [],
   "source": [
    "[1, 2, 3]\n",
    "[0, 1, 2, 3] #expand_dims(0)\n",
    "\n",
    "[1, 0, 2, 3] #expand_dims(1)\n",
    "\n",
    "[1, 2, 3, 0] #expand_dims(-1)"
   ]
  },
  {
   "cell_type": "code",
   "execution_count": 16,
   "metadata": {},
   "outputs": [
    {
     "data": {
      "text/plain": [
       "22.403939308920485"
      ]
     },
     "execution_count": 16,
     "metadata": {},
     "output_type": "execute_result"
    }
   ],
   "source": [
    "class Point:\n",
    "    # takes parameters and turns it into attributes\n",
    "    def __init__(\n",
    "        self,\n",
    "        *coordinates: float,\n",
    "    ):\n",
    "        self.coordinates = list(coordinates)\n",
    "        self.n_dims = len(self)\n",
    "\n",
    "    def __len__(self) -> int:\n",
    "        return len(self.coordinates)\n",
    "\n",
    "    def __getitem__(self, ind: int) -> float:\n",
    "        return self.coordinates[ind]\n",
    "\n",
    "    def __setitem__(self, ind: int, coord: float) -> float:\n",
    "        self.coordinates[ind] = coord\n",
    "\n",
    "    def __hash__(self):\n",
    "        raise TypeError('Object \"Point\" is not hashable')\n",
    "\n",
    "    def __iter__(self):\n",
    "        return iter(self.coordinates)\n",
    "\n",
    "    def __str__(self) -> str:\n",
    "        return f'Point at coordinates {self.coordinates}'\n",
    "\n",
    "    def expand_dims(self, axis: Optional[int] = 0):\n",
    "        if axis == -1:\n",
    "            self.coordinates.insert(len(self), 0)\n",
    "        else:\n",
    "            self.coordinates.insert(axis, 0)\n",
    "\n",
    "\n",
    "def dist(p1: Point, p2: Point) -> float:\n",
    "    if len(p1) != len(p2):\n",
    "        raise ValueError(f'Dimensions of the points are inconsistent: {len(p1)} != {len(p2)}.')\n",
    "\n",
    "    return math.sqrt(sum([(coord1 - coord2)**2 for coord1, coord2 in zip(p1, p2)]))\n",
    "\n",
    "\n",
    "class Segment(object):\n",
    "    def __init__(\n",
    "        self,\n",
    "        *points: Point\n",
    "    ):\n",
    "        max_dims = max(map(\n",
    "            lambda p: p.n_dims,\n",
    "            points\n",
    "        ))\n",
    "\n",
    "        for point in points:\n",
    "            if len(point) < max_dims:\n",
    "                for _ in range(max_dims - len(point)):\n",
    "                    point.expand_dims(-1)\n",
    "\n",
    "        self.points = points\n",
    "\n",
    "    def __getitem__(self, ind: int) -> float:\n",
    "        return self.points[ind]\n",
    "\n",
    "    def __iter__(self):\n",
    "        return iter(self.coordinates)\n",
    "\n",
    "    def perimeter(self) -> float:\n",
    "        return sum([dist(p1, p2) for p1, p2 in zip(self[:-1], self[1:])])\n",
    "\n",
    "p1 = Point(1.2, 3.4, 5.6, 5.1)\n",
    "p2 = Point(9.8, 8.7, 6.5, 4, 6)\n",
    "p3 = Point(4.5, 8.2, 0.9)\n",
    "s1 = Segment(p1, p2, p3)\n",
    "s1.perimeter()\n",
    "\n",
    "# # p1.expand_dims(1)\n",
    "# # print(p1)\n",
    "# [str(p) for p in s1.points]"
   ]
  },
  {
   "cell_type": "code",
   "execution_count": 2,
   "metadata": {},
   "outputs": [
    {
     "name": "stdout",
     "output_type": "stream",
     "text": [
      "(1, 2, 3)\n",
      "{'a': 4, 'b': 5, 'c': 6}\n"
     ]
    }
   ],
   "source": [
    "def foo(*args, **kwargs):\n",
    "    print(args)\n",
    "    print(kwargs)\n",
    "\n",
    "\n",
    "foo(1, 2, 3, a=4, b=5, c=6)"
   ]
  },
  {
   "cell_type": "code",
   "execution_count": 20,
   "metadata": {},
   "outputs": [
    {
     "ename": "TypeError",
     "evalue": "'Point' object does not support item assignment",
     "output_type": "error",
     "traceback": [
      "\u001b[1;31m---------------------------------------------------------------------------\u001b[0m",
      "\u001b[1;31mTypeError\u001b[0m                                 Traceback (most recent call last)",
      "Cell \u001b[1;32mIn [20], line 1\u001b[0m\n\u001b[1;32m----> 1\u001b[0m \u001b[43mp1\u001b[49m\u001b[43m[\u001b[49m\u001b[38;5;241;43m1\u001b[39;49m\u001b[43m]\u001b[49m \u001b[38;5;241m=\u001b[39m \u001b[38;5;241m2\u001b[39m\n",
      "\u001b[1;31mTypeError\u001b[0m: 'Point' object does not support item assignment"
     ]
    }
   ],
   "source": [
    "p1[1] = 2"
   ]
  },
  {
   "cell_type": "markdown",
   "metadata": {},
   "source": [
    "Main py errors:\n",
    "\n",
    "KeyError - this key does not exist in the dict\n",
    "ValueError - Wrong value \n",
    "IndexError - this index does not exist in the list\n",
    "OSError - iternal os error\n",
    "FileNotFoundError\n",
    "FileExistsError - this file already exists (if you are trying to create (not overwrite) existing file)\n",
    "TypeError - You are trying to use this type incorrectly (f.e. trying to call \"len\" to the class without __len__ method)\n",
    "NotImplementedError - If you are trying to use a functionality that does not exist yet\n",
    "AttributeError - If you are trying to use class attribute in a wrong way\n",
    "AssetionError - Error caused by \"assert\" operator\n",
    "StopIterationError - Error to stop iteration"
   ]
  },
  {
   "cell_type": "code",
   "execution_count": 13,
   "metadata": {},
   "outputs": [
    {
     "ename": "TypeError",
     "evalue": "Object \"Point\" is not hashable",
     "output_type": "error",
     "traceback": [
      "\u001b[1;31m---------------------------------------------------------------------------\u001b[0m",
      "\u001b[1;31mTypeError\u001b[0m                                 Traceback (most recent call last)",
      "Cell \u001b[1;32mIn [13], line 1\u001b[0m\n\u001b[1;32m----> 1\u001b[0m {\n\u001b[0;32m      2\u001b[0m     p1: \u001b[38;5;124m'\u001b[39m\u001b[38;5;124masasd\u001b[39m\u001b[38;5;124m'\u001b[39m\n\u001b[0;32m      3\u001b[0m }\n",
      "Cell \u001b[1;32mIn [11], line 15\u001b[0m, in \u001b[0;36mPoint.__hash__\u001b[1;34m(self)\u001b[0m\n\u001b[0;32m     14\u001b[0m \u001b[38;5;28;01mdef\u001b[39;00m \u001b[38;5;21m__hash__\u001b[39m(\u001b[38;5;28mself\u001b[39m):\n\u001b[1;32m---> 15\u001b[0m     \u001b[38;5;28;01mraise\u001b[39;00m \u001b[38;5;167;01mTypeError\u001b[39;00m(\u001b[38;5;124m'\u001b[39m\u001b[38;5;124mObject \u001b[39m\u001b[38;5;124m\"\u001b[39m\u001b[38;5;124mPoint\u001b[39m\u001b[38;5;124m\"\u001b[39m\u001b[38;5;124m is not hashable\u001b[39m\u001b[38;5;124m'\u001b[39m)\n",
      "\u001b[1;31mTypeError\u001b[0m: Object \"Point\" is not hashable"
     ]
    }
   ],
   "source": [
    "{\n",
    "    p1: 'asasd'\n",
    "}"
   ]
  }
 ],
 "metadata": {
  "kernelspec": {
   "display_name": "Python 3.10.7 ('venv': venv)",
   "language": "python",
   "name": "python3"
  },
  "language_info": {
   "codemirror_mode": {
    "name": "ipython",
    "version": 3
   },
   "file_extension": ".py",
   "mimetype": "text/x-python",
   "name": "python",
   "nbconvert_exporter": "python",
   "pygments_lexer": "ipython3",
   "version": "3.10.7"
  },
  "orig_nbformat": 4,
  "vscode": {
   "interpreter": {
    "hash": "aa758a63b168369e3aec664aef7a38b0d5054e3c5200c364b30f3533ef2a8043"
   }
  }
 },
 "nbformat": 4,
 "nbformat_minor": 2
}
