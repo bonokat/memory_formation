{
 "cells": [
  {
   "cell_type": "code",
   "execution_count": 6,
   "metadata": {},
   "outputs": [],
   "source": [
    "import mne, os\n",
    "import numpy as np\n",
    "\n",
    "import sys\n",
    "import os\n",
    "current_dir = os.path.dirname(os.path.abspath('./'))\n",
    "if not current_dir in sys.path:\n",
    "    sys.path.append(current_dir)\n",
    "\n",
    "from utils.preprocessing import *\n"
   ]
  },
  {
   "cell_type": "code",
   "execution_count": 7,
   "metadata": {},
   "outputs": [],
   "source": [
    "def create_events(event_lines: list[str]) -> list[tuple[np.array, dict]]:\n",
    "\n",
    "    event_names = list() # empty list for event names\n",
    "    line_contents = list() # empry list to put lines\n",
    "\n",
    "    for line in event_lines: \n",
    "        line_content = line.split(', ') # split lines into name of event, time, zero\n",
    "        event_names.append(line_content[0]) # list the event names\n",
    "        line_contents.append(line_content) # list all info about events\n",
    "\n",
    "    unique_events = set(event_names) # sets contain only unique objects\n",
    "    events_ids = dict() # empty dictionary to store info on events\n",
    "\n",
    "    for id, event in enumerate(unique_events): # assing numbers to unique event names\n",
    "        events_ids[event] = id # ????\n",
    "\n",
    "    events = list()\n",
    "\n",
    "    for line_content in line_contents:\n",
    "        events.append([line_content[1], 0, events_ids[line_content[0]]]) # events format for mne: time, 0, name)\n",
    "\n",
    "    events = np.array(events) #convert list to np.array\n",
    "\n",
    "    return events, events_ids"
   ]
  },
  {
   "cell_type": "code",
   "execution_count": 8,
   "metadata": {},
   "outputs": [],
   "source": [
    "sub = 'sub3'\n",
    "root = '../'\n",
    "subjects_path = os.path.join(root, 'data', 'subjects')\n",
    "subject_path = os.path.join(subjects_path, sub)\n",
    "events_path = os.path.join(subject_path, 'events')\n",
    "event = 'Encoding1_tsss_mc_trans_all_events.txt'\n",
    "encoding = event[:9] # give name to anno file enc 1 or 2\n",
    "event_name = encoding + '_tsss_mc_trans_all_events.txt' # rest of the file name\n",
    "event_file = os.path.join(events_path, event)\n",
    "with open(event_file) as f:\n",
    "    lines = f.readlines()\n",
    "events, _ = create_events(lines)"
   ]
  },
  {
   "cell_type": "code",
   "execution_count": 38,
   "metadata": {},
   "outputs": [
    {
     "ename": "ValueError",
     "evalue": "not enough values to unpack (expected 2, got 0)",
     "output_type": "error",
     "traceback": [
      "\u001b[1;31m---------------------------------------------------------------------------\u001b[0m",
      "\u001b[1;31mValueError\u001b[0m                                Traceback (most recent call last)",
      "\u001b[1;32md:\\Ekaterina_Voevodina\\memory_formation\\dirty_field\\work_with_events.ipynb Cell 4\u001b[0m in \u001b[0;36m<cell line: 4>\u001b[1;34m()\u001b[0m\n\u001b[0;32m      <a href='vscode-notebook-cell:/d%3A/Ekaterina_Voevodina/memory_formation/dirty_field/work_with_events.ipynb#X61sZmlsZQ%3D%3D?line=1'>2</a>\u001b[0m b \u001b[39m=\u001b[39m \u001b[39m6\u001b[39m\n\u001b[0;32m      <a href='vscode-notebook-cell:/d%3A/Ekaterina_Voevodina/memory_formation/dirty_field/work_with_events.ipynb#X61sZmlsZQ%3D%3D?line=2'>3</a>\u001b[0m c \u001b[39m=\u001b[39m \u001b[39mlist\u001b[39m()\n\u001b[1;32m----> <a href='vscode-notebook-cell:/d%3A/Ekaterina_Voevodina/memory_formation/dirty_field/work_with_events.ipynb#X61sZmlsZQ%3D%3D?line=3'>4</a>\u001b[0m a, b \u001b[39m=\u001b[39m c\n",
      "\u001b[1;31mValueError\u001b[0m: not enough values to unpack (expected 2, got 0)"
     ]
    }
   ],
   "source": []
  },
  {
   "cell_type": "code",
   "execution_count": 42,
   "metadata": {},
   "outputs": [
    {
     "name": "stdout",
     "output_type": "stream",
     "text": [
      "(1, 2, 3) <class 'tuple'>\n",
      "(1, 2, 3) <class 'tuple'>\n",
      "(1, (2, 3))\n",
      "(1, (2, 3))\n"
     ]
    }
   ],
   "source": [
    "a = (1, 2, 3)\n",
    "print(a, type(a))\n",
    "b = 1, 2, 3\n",
    "print(b, type(b))\n",
    "c = (1, (2, 3))\n",
    "print(c)\n",
    "d = 1, (2, 3)\n",
    "print(d)"
   ]
  },
  {
   "cell_type": "code",
   "execution_count": 50,
   "metadata": {},
   "outputs": [
    {
     "data": {
      "text/plain": [
       "int"
      ]
     },
     "execution_count": 50,
     "metadata": {},
     "output_type": "execute_result"
    }
   ],
   "source": [
    "a = 1\n",
    "b = dict(a=1, b=2, c=3)\n",
    "b, a = a, b\n",
    "c = a, b\n",
    "d, e = a, b\n",
    "\n",
    "def f():\n",
    "    return 1, [2, 3,4, True, 5.232, 'SGDwg']\n",
    "\n",
    "g = f()\n",
    "type(g)\n",
    "\n",
    "h = (1, 'sdlcbgldgb')\n",
    "i, j = h\n",
    "type(j)\n",
    "k, l = f()\n",
    "type(k)"
   ]
  },
  {
   "cell_type": "code",
   "execution_count": 61,
   "metadata": {},
   "outputs": [
    {
     "name": "stdout",
     "output_type": "stream",
     "text": [
      "A Male 0.10071942446043165\n",
      "{'name': 'A', 'wratio': 0.10071942446043165, 'gender': 'Male'}\n"
     ]
    }
   ],
   "source": [
    "class A:\n",
    "    def __init__(self, name, age, gender, weight):\n",
    "        self.name = name\n",
    "        self.wratio = age/weight\n",
    "        self.gender = gender\n",
    "\n",
    "a = A('A', 14, 'Male', 139)\n",
    "\n",
    "print(\n",
    "    a.name,\n",
    "    a.gender,\n",
    "    a.wratio\n",
    ")\n",
    "print(vars(a))"
   ]
  },
  {
   "cell_type": "code",
   "execution_count": 59,
   "metadata": {},
   "outputs": [
    {
     "name": "stdout",
     "output_type": "stream",
     "text": [
      "(2, 3)\n",
      "2\n",
      "1 2 3\n"
     ]
    }
   ],
   "source": [
    "a = 1, 2, (3, 4), 'ads', True\n",
    "b, c, *d = a\n",
    "\n",
    "# print(b)\n",
    "# print(c)\n",
    "# print(d)\n",
    "\n",
    "a = 1, (2, 3)\n",
    "b, c = a\n",
    "print(c)\n",
    "c, d = c\n",
    "print(c)\n",
    "b, (c, d) = a\n",
    "print(b, c, d)\n",
    "\n",
    "(c, d) = 2, 3\n",
    "\n",
    "(b, (c, d)) = (1, (2, 3))\n",
    "b, (c, d) = 1, (2, 3)\n"
   ]
  },
  {
   "cell_type": "code",
   "execution_count": 34,
   "metadata": {},
   "outputs": [],
   "source": [
    "arr = [1, 2, 3, 4, 5]\n",
    "arr_alt = arr"
   ]
  },
  {
   "cell_type": "code",
   "execution_count": 31,
   "metadata": {},
   "outputs": [],
   "source": [
    "arr.append(6)"
   ]
  },
  {
   "cell_type": "code",
   "execution_count": 32,
   "metadata": {},
   "outputs": [
    {
     "data": {
      "text/plain": [
       "[1, 2, 3, 4, 5, 6]"
      ]
     },
     "execution_count": 32,
     "metadata": {},
     "output_type": "execute_result"
    }
   ],
   "source": [
    "arr"
   ]
  },
  {
   "cell_type": "code",
   "execution_count": 33,
   "metadata": {},
   "outputs": [
    {
     "data": {
      "text/plain": [
       "[1, 2, 3, 4, 5]"
      ]
     },
     "execution_count": 33,
     "metadata": {},
     "output_type": "execute_result"
    }
   ],
   "source": [
    "arr_alt"
   ]
  },
  {
   "cell_type": "code",
   "execution_count": 139,
   "metadata": {},
   "outputs": [
    {
     "name": "stdout",
     "output_type": "stream",
     "text": [
      "Encoding1_tsss_mc_trans_all_events.txt Encoding1_tsss_mc_trans_all_events.txt\n",
      "Encoding1_tsss_mc_trans_all_events.txt Encoding1_tsss_mc_trans_all_events.txt\n",
      "Encoding2_tsss_mc_trans_all_events.txt Encoding2_tsss_mc_trans_all_events.txt\n"
     ]
    }
   ],
   "source": [
    "\n",
    "\n",
    "if __name__ == '__main__':\n",
    "    root = '../'\n",
    "    subjects_path = os.path.join(root, 'data', 'subjects')\n",
    "\n",
    "    for sub in os.listdir(subjects_path):\n",
    "        subject_path = os.path.join(subjects_path, sub)\n",
    "        raw_dir = os.path.join(subject_path, 'raw')\n",
    "\n",
    "        for raw_name in os.listdir(raw_dir):\n",
    "            raw_path = os.path.join(raw_dir, raw_name)\n",
    "            encoding = raw_name[:9] # give name to event file enc 1 or 2\n",
    "            event_name = encoding + '_tsss_mc_trans_all_events.txt' # rest of the file name\n",
    "            raw = mne.io.read_raw_fif(raw_path)\n",
    "            \n",
    "            event_file = os.path.join(events_path, event_name)\n",
    "\n",
    "            with open(event_file) as f:\n",
    "                lines = f.readlines()\n",
    "\n",
    "            events, events_ids = create_events(lines)\n",
    "            \n",
    "\n"
   ]
  },
  {
   "cell_type": "code",
   "execution_count": 5,
   "metadata": {},
   "outputs": [
    {
     "ename": "NameError",
     "evalue": "name 'events' is not defined",
     "output_type": "error",
     "traceback": [
      "\u001b[1;31m---------------------------------------------------------------------------\u001b[0m",
      "\u001b[1;31mNameError\u001b[0m                                 Traceback (most recent call last)",
      "\u001b[1;32md:\\Ekaterina_Voevodina\\memory_formation\\dirty_field\\work_with_events.ipynb Cell 5\u001b[0m in \u001b[0;36m<cell line: 1>\u001b[1;34m()\u001b[0m\n\u001b[1;32m----> <a href='vscode-notebook-cell:/d%3A/Ekaterina_Voevodina/memory_formation/dirty_field/work_with_events.ipynb#X45sZmlsZQ%3D%3D?line=0'>1</a>\u001b[0m events\n",
      "\u001b[1;31mNameError\u001b[0m: name 'events' is not defined"
     ]
    }
   ],
   "source": [
    "events"
   ]
  },
  {
   "cell_type": "code",
   "execution_count": 37,
   "metadata": {},
   "outputs": [
    {
     "name": "stdout",
     "output_type": "stream",
     "text": [
      "Subject name: Katya                                             OK\n",
      "Reading Katya folder...                                         OK\n",
      "Reading events from Encoding2_tsss_mc_trans_all_events.txt...   OK\n"
     ]
    }
   ],
   "source": [
    "# Solution for printing same width   --->   NOT IMPLENEMTED\n",
    "subject_name = 'Katya'\n",
    "print('{0:64s}'.format(f'Subject name: {subject_name}'), end='')\n",
    "print('OK')\n",
    "print('{0:64s}'.format(f'Reading {subject_name} folder...'), end='')\n",
    "print('OK')\n",
    "print('{0:64s}'.format('Reading events from Encoding2_tsss_mc_trans_all_events.txt...'), end='')\n",
    "print('OK')"
   ]
  },
  {
   "cell_type": "code",
   "execution_count": 13,
   "metadata": {},
   "outputs": [
    {
     "name": "stdout",
     "output_type": "stream",
     "text": [
      "11 121 1331\n",
      "12 144 1728\n"
     ]
    }
   ],
   "source": [
    "\n",
    "for x in range(11,13):\n",
    "    print(f'{x:02} {x*x:3} {x*x*x:4}')"
   ]
  },
  {
   "cell_type": "code",
   "execution_count": null,
   "metadata": {},
   "outputs": [],
   "source": []
  },
  {
   "cell_type": "code",
   "execution_count": 38,
   "metadata": {},
   "outputs": [
    {
     "ename": "NameError",
     "evalue": "name 'np' is not defined",
     "output_type": "error",
     "traceback": [
      "\u001b[1;31m---------------------------------------------------------------------------\u001b[0m",
      "\u001b[1;31mNameError\u001b[0m                                 Traceback (most recent call last)",
      "\u001b[1;32md:\\Ekaterina_Voevodina\\memory_formation\\dirty_field\\work_with_events.ipynb Cell 17\u001b[0m in \u001b[0;36m<cell line: 6>\u001b[1;34m()\u001b[0m\n\u001b[0;32m     <a href='vscode-notebook-cell:/d%3A/Ekaterina_Voevodina/memory_formation/dirty_field/work_with_events.ipynb#X20sZmlsZQ%3D%3D?line=20'>21</a>\u001b[0m \u001b[39mfor\u001b[39;00m line_content \u001b[39min\u001b[39;00m line_contents:\n\u001b[0;32m     <a href='vscode-notebook-cell:/d%3A/Ekaterina_Voevodina/memory_formation/dirty_field/work_with_events.ipynb#X20sZmlsZQ%3D%3D?line=21'>22</a>\u001b[0m     events\u001b[39m.\u001b[39mappend([line_content[\u001b[39m1\u001b[39m], \u001b[39m0\u001b[39m, events_ids[line_content[\u001b[39m0\u001b[39m]]])\n\u001b[1;32m---> <a href='vscode-notebook-cell:/d%3A/Ekaterina_Voevodina/memory_formation/dirty_field/work_with_events.ipynb#X20sZmlsZQ%3D%3D?line=22'>23</a>\u001b[0m events \u001b[39m=\u001b[39m np\u001b[39m.\u001b[39marray(events)\n\u001b[0;32m     <a href='vscode-notebook-cell:/d%3A/Ekaterina_Voevodina/memory_formation/dirty_field/work_with_events.ipynb#X20sZmlsZQ%3D%3D?line=23'>24</a>\u001b[0m all_events\u001b[39m.\u001b[39mappend((events, events_ids))\n",
      "\u001b[1;31mNameError\u001b[0m: name 'np' is not defined"
     ]
    }
   ],
   "source": [
    "root = '../'\n",
    "subjects_path = os.path.join(root, 'data', 'subjects')\n",
    "subject_path = os.path.join(subjects_path, 'sub3')\n",
    "events_path = os.path.join(subject_path, 'events')\n",
    "all_events = list()\n",
    "for event in os.listdir(events_path):\n",
    "    event_file = os.path.join(events_path, event)\n",
    "    with open(event_file) as f:\n",
    "        lines = f.readlines()\n",
    "    event_names = list()\n",
    "    line_contents = list()\n",
    "    for line in lines:\n",
    "        line_content = line.split(', ')\n",
    "        event_names.append(line_content[0])\n",
    "        line_contents.append(line_content)\n",
    "    unique_events = set(event_names)\n",
    "    events_ids = dict()\n",
    "    for id, event in enumerate(unique_events):\n",
    "        events_ids[event] = id\n",
    "    events = list()\n",
    "    for line_content in line_contents:\n",
    "        events.append([line_content[1], 0, events_ids[line_content[0]]])\n",
    "    events = np.array(events)\n",
    "    all_events.append((events, events_ids)) # создаём кортеж из events and event_ids\n",
    "\n"
   ]
  },
  {
   "cell_type": "code",
   "execution_count": null,
   "metadata": {},
   "outputs": [],
   "source": [
    "from utils.preprocessing import create_annotations, annotate_raw, create_events  # import our functions for annotations from the folder utils, file preprocessing\n",
    "import os\n",
    "import mne\n",
    "import logging\n",
    "import argparse\n",
    "\n",
    "if __name__ == '__main__': # if we import fuctions from another file, we dont read them straigh away, \n",
    "                            # but when we initiate them in this script\n",
    "    # make argparser to take argument -from (int) and -to (int)\n",
    "    # interate subjects from \"-from\" to \"to\"\n",
    "    mne.set_log_level(logging.CRITICAL)\n",
    "    root = '.\\\\' # start from the folder with annotate.py\n",
    "    subjects_dir = os.path.join(root, 'data', 'subjects') # path to the subjects directory\n",
    "    for subject_name in os.listdir(subjects_dir): # for every subj in the directory\n",
    "        print(f'Subject name: {subject_name}')\n",
    "        print(f'Reading {subject_name} folder...', end='\\t\\t')\n",
    "        subject_dir = os.path.join(subjects_dir, subject_name) # path to each subj one by one\n",
    "        print('OK')\n",
    "        raw_dir = os.path.join(subject_dir, 'raw') #path to raw file in subj directory\n",
    "        print(f'Reading {raw_dir} folder...', end='\\t\\t')\n",
    "        print('OK')\n",
    "        for raw_name in os.listdir(raw_dir): #for each of raw enc files\n",
    "            if 'annotated' in raw_name: #skip annotated files\n",
    "                continue\n",
    "            print(f'Raw file: {raw_name}')\n",
    "\n",
    "            encoding = raw_name[:9] # give name to anno file enc 1 or 2\n",
    "            anno_name = encoding + '_tsss_mc_trans_BAD.txt' # rest of the file name\n",
    "            events_name = encoding + '_tsss_mc_trans_all_events.txt' # rest of the file name\n",
    "\n",
    "            raw_path = os.path.join(raw_dir, raw_name) # go to each raw file\n",
    "            anno_path = os.path.join(subject_dir, 'annotations', anno_name) # path to each anno file\n",
    "            events_path = os.path.join(subject_dir, 'events', events_name)\n",
    "            print('Reading raw-file ...', end='\\t\\t')\n",
    "            raw = mne.io.read_raw_fif(raw_path) # read raw file\n",
    "            print('OK')\n",
    "            print(f'Reading events from {events_name}...', end='\\t\\t')\n",
    "            with open(events_path) as f:\n",
    "                lines = f.readlines()\n",
    "            print('OK')\n",
    "\n",
    "            print('Creating events...', end='\\t\\t')\n",
    "            events, events_ids = create_events(lines) \n",
    "            print('OK')\n",
    "\n",
    "            print('Creating annotations...', end='\\t\\t')\n",
    "            if len(raw.annotations) != 0: # if we dont have annotations, annotate raw file\n",
    "                raw = annotate_raw(raw, events)\n",
    "            else:                         # if we have annotations, read file with annotations\n",
    "                with open(anno_path) as f: # to close file automatically after reading\n",
    "                    lines = f.readlines()\n",
    "\n",
    "                annotations = create_annotations(lines) # create annotations from txt file\n",
    "                raw.set_annotations(annotations) # ???\n",
    "                raw = annotate_raw(raw, events) # add annotations to raw file\n",
    "            print('OK')\n",
    "\n",
    "            print('Saving annotations...', end='\\t\\t')\n",
    "            raw.save(raw_path[:-4] + '_annotated.fif', overwrite=True) # save with a name _annotated instead of _BAD\n",
    "            print(f'SUCCESSFULLY WRITTEN in {raw_path}')\n",
    "\n"
   ]
  },
  {
   "cell_type": "code",
   "execution_count": 72,
   "metadata": {},
   "outputs": [
    {
     "data": {
      "text/plain": [
       "[10, 11, 12, 15, 17, 19, 2, 20, 22, 23, 24, 25, 26, 3, 4, 6, 7, 8, 9]"
      ]
     },
     "execution_count": 72,
     "metadata": {},
     "output_type": "execute_result"
    }
   ],
   "source": [
    "all_subjects = os.listdir(subjects_dir)\n",
    "# all_subjects[4:8]\n",
    "sub_ind = list()\n",
    "for subject in all_subjects:\n",
    "    sub_ind.append(int(subject.replace('sub', '')))\n",
    "sub_ind"
   ]
  },
  {
   "cell_type": "code",
   "execution_count": 73,
   "metadata": {},
   "outputs": [
    {
     "data": {
      "text/plain": [
       "[10, 11, 12, 15, 17, 19, 2, 20, 22, 23, 24, 25, 26, 3, 4, 6, 7, 8, 9]"
      ]
     },
     "execution_count": 73,
     "metadata": {},
     "output_type": "execute_result"
    }
   ],
   "source": [
    "sub_ind"
   ]
  },
  {
   "cell_type": "code",
   "execution_count": 74,
   "metadata": {},
   "outputs": [
    {
     "data": {
      "text/plain": [
       "[2, 3, 4, 6, 7, 8, 9, 10, 11, 12, 15, 17, 19, 20, 22, 23, 24, 25, 26]"
      ]
     },
     "execution_count": 74,
     "metadata": {},
     "output_type": "execute_result"
    }
   ],
   "source": [
    "sorted(sub_ind)"
   ]
  },
  {
   "cell_type": "code",
   "execution_count": 75,
   "metadata": {},
   "outputs": [
    {
     "data": {
      "text/plain": [
       "[26, 25, 24, 23, 22, 20, 19, 17, 15, 12, 11, 10, 9, 8, 7, 6, 4, 3, 2]"
      ]
     },
     "execution_count": 75,
     "metadata": {},
     "output_type": "execute_result"
    }
   ],
   "source": [
    "sorted(sub_ind, reverse=True)"
   ]
  },
  {
   "cell_type": "code",
   "execution_count": null,
   "metadata": {},
   "outputs": [],
   "source": [
    "\n",
    "iterable=None\n",
    "condition=None\n",
    "l = [value for value in iterable] # lc\n",
    "l = [value for value in iterable if condition] # lci\n",
    "l = [value if condition else condition for value in iterable] # lcie\n",
    "\n",
    "# example\n",
    "sub_ind = [int(subject.replace('sub', '')) if 'sub1' in subject else None for subject in all_subjects]\n"
   ]
  },
  {
   "cell_type": "code",
   "execution_count": 95,
   "metadata": {},
   "outputs": [
    {
     "name": "stdout",
     "output_type": "stream",
     "text": [
      "[('a', 1), ('b', 2), ('c', 3)]\n",
      "a [1, True]\n",
      "b [2, False]\n",
      "c [3, True]\n"
     ]
    }
   ],
   "source": [
    "a = ['a', 'b', 'c','d', 'e']\n",
    "b = [1, 2, 3]\n",
    "c = [True, False, True, False, 'Last']\n",
    "\n",
    "print(list(zip(a, b)))\n",
    "\n",
    "for el1, *el2 in zip(a, b, c):\n",
    "    print(el1, el2)"
   ]
  },
  {
   "cell_type": "code",
   "execution_count": 83,
   "metadata": {},
   "outputs": [
    {
     "data": {
      "text/plain": [
       "True"
      ]
     },
     "execution_count": 83,
     "metadata": {},
     "output_type": "execute_result"
    }
   ],
   "source": [
    "6 in range(5, 10)"
   ]
  },
  {
   "cell_type": "code",
   "execution_count": null,
   "metadata": {},
   "outputs": [],
   "source": [
    "import argparse\n",
    "import os\n",
    "\n",
    "if __name__ == \"__main__\":\n",
    "    parser = argparse.ArgumentParser(description='Script to address subjects')\n",
    "    \n",
    "    parser.add_argument('-from', type=int, help='id of the first subject', default=1)\n",
    "    parser.add_argument('-to', type=int, help='id of the last subject', default=None)\n",
    "    subjects_dir = os.path.join(root, 'data', 'subjects')\n",
    "    sub_inds = [int(subject.replace('sub', '')) for subject in os.listdir(subjects_dir)]\n",
    "    \n",
    "    from_,\\\n",
    "        to = vars(parser.parse_args()).values()\n",
    "\n",
    "    if to is None:\n",
    "        to = max(sub_inds)\n",
    "\n",
    "    subjects_range = range(from_, to + 1)\n",
    "\n",
    "    for sub_ind, subject_name in zip(sub_inds, os.listdir(subjects_dir)):\n",
    "\n",
    "        if sub_ind not in subjects_range:\n",
    "            continue\n",
    "\n",
    "        subject_dir = os.path.join(subjects_dir, subject_name)\n",
    "        raw_dir = os.path.join(subject_dir, 'raw')"
   ]
  },
  {
   "cell_type": "code",
   "execution_count": 40,
   "metadata": {},
   "outputs": [
    {
     "data": {
      "text/plain": [
       "['sub10',\n",
       " 'sub11',\n",
       " 'sub12',\n",
       " 'sub15',\n",
       " 'sub17',\n",
       " 'sub19',\n",
       " 'sub2',\n",
       " 'sub20',\n",
       " 'sub22',\n",
       " 'sub23',\n",
       " 'sub24',\n",
       " 'sub25',\n",
       " 'sub26',\n",
       " 'sub3',\n",
       " 'sub4',\n",
       " 'sub6',\n",
       " 'sub7',\n",
       " 'sub8',\n",
       " 'sub9']"
      ]
     },
     "execution_count": 40,
     "metadata": {},
     "output_type": "execute_result"
    }
   ],
   "source": [
    "import os\n",
    "\n",
    "subjects_dir = os.path.join(root, 'data', 'subjects')\n",
    "all_subjects = list()\n",
    "for subject_name in os.listdir(subjects_dir):\n",
    "    all_subjects.append(subject_name)\n",
    "all_subjects"
   ]
  }
 ],
 "metadata": {
  "kernelspec": {
   "display_name": "Python 3.10.7 64-bit",
   "language": "python",
   "name": "python3"
  },
  "language_info": {
   "codemirror_mode": {
    "name": "ipython",
    "version": 3
   },
   "file_extension": ".py",
   "mimetype": "text/x-python",
   "name": "python",
   "nbconvert_exporter": "python",
   "pygments_lexer": "ipython3",
   "version": "3.10.7"
  },
  "orig_nbformat": 4,
  "vscode": {
   "interpreter": {
    "hash": "a524bf9124eab6af6be8696dbe1653ba4ef38fd45d54bfe710de2028624ba7ad"
   }
  }
 },
 "nbformat": 4,
 "nbformat_minor": 2
}
