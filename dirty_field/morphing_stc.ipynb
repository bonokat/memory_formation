{
 "cells": [
  {
   "cell_type": "code",
   "execution_count": 7,
   "metadata": {},
   "outputs": [],
   "source": [
    "import mne\n",
    "import numpy as np\n",
    "import os\n",
    "import sys\n",
    "\n",
    "os.environ['MNE_3D_OPTION_ANTIALIAS']='false' # to make visualization work\n",
    "\n",
    "current_dir = os.path.dirname(os.path.abspath('./'))\n",
    "if not current_dir in sys.path:\n",
    "    sys.path.append(current_dir)\n",
    "\n",
    "import matplotlib.pyplot as plt\n"
   ]
  },
  {
   "cell_type": "code",
   "execution_count": 16,
   "metadata": {},
   "outputs": [],
   "source": [
    "subjects_dir = 'D:\\\\Ekaterina_Voevodina\\\\memory_formation\\\\data\\\\subjects'\n",
    "mris_dir = 'D:\\\\Ekaterina_Voevodina\\\\memory_formation\\\\data\\\\mri'\n",
    "fsaverage_src_path = os.path.join(mris_dir, 'fsaverage', 'bem', 'fsaverage-ico-5-src.fif')\n",
    "\n",
    "source_est_dir = os.path.join(subjects_dir, subject_name, 'source_rec')\n",
    "stc_path = os.path.join(source_est_dir, 'stc_hits_theta_sub2-stc.h5')\n",
    "stc = mne.read_source_estimate(stc_path)\n",
    "\n",
    "# src_from_path = os.path.join(source_est_dir, f'src_{subject_name}')\n",
    "# src_from = mne.read_source_spaces(src_from_path)\n"
   ]
  },
  {
   "cell_type": "code",
   "execution_count": null,
   "metadata": {},
   "outputs": [],
   "source": [
    "# example\n",
    "# works ONLY in .py script\n",
    "\n",
    "for subject_name in os.listdir(subjects_dir):\n",
    "    stc_dir = os.path.join(subjects_dir, subject_name, 'source_rec')\n",
    "    stc_path = os.path.join(stc_dir, f'stc_{cond}_{fband}_{subject_name}-stc.h5')\n",
    "    stc = mne.read_source_estimate(stc_path)\n",
    "    src_to = mne.read_source_spaces(fsaverage_src_path)\n",
    "    morph = mne.compute_source_morph(stc, subject_from=subject_name,\n",
    "                                        subject_to='fsaverage', src_to=src_to,\n",
    "                                        subjects_dir=mris_dir\n",
    "                                        )\n",
    "    stc_fsaverage = morph.apply(stc)\n",
    "\n",
    "    # save morphs and stc_fsaverage\n",
    "    morph_path = 'D:\\\\Ekaterina_Voevodina\\\\memory_formation\\\\data\\\\mri\\\\morph-maps'\n",
    "    morph_name = os.path.join(morph_path, f'morph_{subject_name}_{cond}_{fband}')\n",
    "    stc_fsaverage_path = os.path.join('D:\\Ekaterina_Voevodina\\memory_formation\\data\\group\\fsaverage_stc', fband)\n",
    "    stc_fsaverage_name = os.path.join(stc_fsaverage_path, f'fsaverage_stc_{subject_name}_{cond}_{fband}')\n",
    "    morph.save(morph_name, overwrite=True)\n",
    "    stc_fsaverage.save(stc_fsaverage_name, ftype='h5', overwrite=True)"
   ]
  },
  {
   "cell_type": "code",
   "execution_count": 14,
   "metadata": {},
   "outputs": [
    {
     "name": "stdout",
     "output_type": "stream",
     "text": [
      "    Reading a source space...\n",
      "    [done]\n",
      "    Reading a source space...\n",
      "    [done]\n",
      "    2 source spaces read\n"
     ]
    }
   ],
   "source": [
    "# WAY 1\n",
    "src_to = mne.read_source_spaces(fsaverage_src_path)\n",
    "morph = mne.compute_source_morph(stc, subject_from=subject_name,\n",
    "                                 subject_to='fsaverage', src_to=src_to,\n",
    "                                 subjects_dir=mris_dir)\n",
    "stc_fsaverage = morph.apply(stc)"
   ]
  },
  {
   "cell_type": "code",
   "execution_count": null,
   "metadata": {},
   "outputs": [],
   "source": [
    "# WAY 2\n",
    "stc_fsaverage = mne.compute_source_morph(stc, subject_from=subject_name,\n",
    "                                        subject_to='fsaverage', src_to=src_to,\n",
    "                                        subjects_dir=mris_dir\n",
    "                                        ).apply(stc)"
   ]
  },
  {
   "cell_type": "code",
   "execution_count": 15,
   "metadata": {},
   "outputs": [
    {
     "name": "stdout",
     "output_type": "stream",
     "text": [
      "Using pyvistaqt 3d backend.\n",
      "\n"
     ]
    },
    {
     "name": "stdout",
     "output_type": "stream",
     "text": [
      "Using control points [0.12917093 0.16871475 0.48877296]\n"
     ]
    }
   ],
   "source": [
    "# Define plotting parameters\n",
    "surfer_kwargs = dict(\n",
    "    hemi='both', subjects_dir=mris_dir,\n",
    "    clim=dict(kind='value', lims=[8, 12, 15]), views='lateral',\n",
    "    initial_time=0.09, time_unit='s', size=(800, 800),\n",
    "    smoothing_steps=5)\n",
    "\n",
    "brain_inf = stc_fsaverage.plot(surface='inflated', **surfer_kwargs)\n",
    "\n",
    "# Add title\n",
    "brain_inf.add_text(0.1, 0.9, 'Morphed to fsaverage (inflated)', 'title',\n",
    "                   font_size=16)"
   ]
  },
  {
   "cell_type": "code",
   "execution_count": 25,
   "metadata": {},
   "outputs": [],
   "source": [
    "morph.save(os.path.join(subjects_dir, 'stc_morph'))"
   ]
  },
  {
   "cell_type": "code",
   "execution_count": null,
   "metadata": {},
   "outputs": [],
   "source": [
    "morph = mne.read_source_morph(os.path.join(subjects_dir, 'stc_morph'))"
   ]
  }
 ],
 "metadata": {
  "kernelspec": {
   "display_name": "Python 3.10.7 ('venv': venv)",
   "language": "python",
   "name": "python3"
  },
  "language_info": {
   "codemirror_mode": {
    "name": "ipython",
    "version": 3
   },
   "file_extension": ".py",
   "mimetype": "text/x-python",
   "name": "python",
   "nbconvert_exporter": "python",
   "pygments_lexer": "ipython3",
   "version": "3.10.7"
  },
  "orig_nbformat": 4,
  "vscode": {
   "interpreter": {
    "hash": "aa758a63b168369e3aec664aef7a38b0d5054e3c5200c364b30f3533ef2a8043"
   }
  }
 },
 "nbformat": 4,
 "nbformat_minor": 2
}
