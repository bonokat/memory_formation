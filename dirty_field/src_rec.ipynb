{
 "cells": [
  {
   "cell_type": "code",
   "execution_count": 1,
   "metadata": {},
   "outputs": [],
   "source": [
    "import mne"
   ]
  },
  {
   "cell_type": "code",
   "execution_count": 2,
   "metadata": {},
   "outputs": [
    {
     "name": "stdout",
     "output_type": "stream",
     "text": [
      "Setting up the source space with the following parameters:\n",
      "\n",
      "SUBJECTS_DIR = D:\\Ekaterina_Voevodina\\MRI_FS\n",
      "Subject      = Sub2_memform\n",
      "Surface      = white\n",
      "Octahedron subdivision grade 4\n",
      "\n",
      ">>> 1. Creating the source space...\n",
      "\n",
      "Doing the octahedral vertex picking...\n",
      "Loading D:\\Ekaterina_Voevodina\\MRI_FS\\Sub2_memform\\surf\\lh.white...\n",
      "Mapping lh Sub2_memform -> oct (4) ...\n",
      "    Triangle neighbors and vertex normals...\n",
      "Loading geometry from D:\\Ekaterina_Voevodina\\MRI_FS\\Sub2_memform\\surf\\lh.sphere...\n",
      "Setting up the triangulation for the decimated surface...\n",
      "loaded lh.white 258/158411 selected to source space (oct = 4)\n",
      "\n",
      "Loading D:\\Ekaterina_Voevodina\\MRI_FS\\Sub2_memform\\surf\\rh.white...\n",
      "Mapping rh Sub2_memform -> oct (4) ...\n",
      "    Triangle neighbors and vertex normals...\n",
      "Loading geometry from D:\\Ekaterina_Voevodina\\MRI_FS\\Sub2_memform\\surf\\rh.sphere...\n",
      "Setting up the triangulation for the decimated surface...\n",
      "loaded rh.white 258/151372 selected to source space (oct = 4)\n",
      "\n",
      "Calculating patch information (limit=0.0 mm)...\n",
      "    Computing patch statistics...\n",
      "    Patch information added...\n",
      "    Computing patch statistics...\n",
      "    Patch information added...\n",
      "You are now one step closer to computing the gain matrix\n",
      "<SourceSpaces: [<surface (lh), n_vertices=158411, n_used=258>, <surface (rh), n_vertices=151372, n_used=258>] MRI (surface RAS) coords, subject 'Sub2_memform', ~27.3 MB>\n"
     ]
    }
   ],
   "source": [
    "subjects_dir = 'D:\\\\Ekaterina_Voevodina\\\\MRI_FS\\\\'\n",
    "subject = 'Sub2_memform'\n",
    "src = mne.setup_source_space(\n",
    "    subject, spacing='oct4', add_dist='patch',\n",
    "    subjects_dir=subjects_dir)\n",
    "print(src)"
   ]
  },
  {
   "cell_type": "code",
   "execution_count": 3,
   "metadata": {},
   "outputs": [
    {
     "name": "stdout",
     "output_type": "stream",
     "text": [
      "<SourceSpaces: [<surface (lh), n_vertices=158411, n_used=258>, <surface (rh), n_vertices=151372, n_used=258>] MRI (surface RAS) coords, subject 'Sub2_memform', ~27.3 MB>\n"
     ]
    }
   ],
   "source": [
    "print(src)"
   ]
  },
  {
   "cell_type": "code",
   "execution_count": 4,
   "metadata": {},
   "outputs": [
    {
     "name": "stdout",
     "output_type": "stream",
     "text": [
      "Creating the BEM geometry...\n",
      "Going from 5th to 4th subdivision of an icosahedron (n_tri: 20480 -> 5120)\n",
      "inner skull CM is  -0.87 -19.58  35.45 mm\n",
      "Surfaces passed the basic topology checks.\n",
      "Complete.\n",
      "\n",
      "Approximation method : Linear collocation\n",
      "\n",
      "Homogeneous model surface loaded.\n",
      "Computing the linear collocation solution...\n",
      "    Matrix coefficients...\n",
      "        inner skull (2562) -> inner skull (2562) ...\n",
      "    Inverting the coefficient matrix...\n",
      "Solution ready.\n",
      "BEM geometry computations complete.\n"
     ]
    }
   ],
   "source": [
    "conductivity = (0.3,)  # for single layer\n",
    "# conductivity = (0.3, 0.006, 0.3)  # for three layers\n",
    "model = mne.make_bem_model(subject=subject, ico=4,\n",
    "                           conductivity=conductivity,\n",
    "                           subjects_dir=subjects_dir)\n",
    "bem = mne.make_bem_solution(model)"
   ]
  },
  {
   "cell_type": "code",
   "execution_count": 5,
   "metadata": {},
   "outputs": [
    {
     "data": {
      "text/plain": [
       "<ConductorModel | BEM (1 layer)>"
      ]
     },
     "execution_count": 5,
     "metadata": {},
     "output_type": "execute_result"
    }
   ],
   "source": [
    "bem"
   ]
  }
 ],
 "metadata": {
  "kernelspec": {
   "display_name": "Python 3.10.7 ('venv': venv)",
   "language": "python",
   "name": "python3"
  },
  "language_info": {
   "codemirror_mode": {
    "name": "ipython",
    "version": 3
   },
   "file_extension": ".py",
   "mimetype": "text/x-python",
   "name": "python",
   "nbconvert_exporter": "python",
   "pygments_lexer": "ipython3",
   "version": "3.10.7"
  },
  "orig_nbformat": 4,
  "vscode": {
   "interpreter": {
    "hash": "aa758a63b168369e3aec664aef7a38b0d5054e3c5200c364b30f3533ef2a8043"
   }
  }
 },
 "nbformat": 4,
 "nbformat_minor": 2
}
