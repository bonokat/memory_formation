{
 "cells": [
  {
   "cell_type": "markdown",
   "metadata": {},
   "source": [
    "GOAL:\n",
    "1. morph all subjects' mris to the default brain\n",
    "2. average source estimates from all subjects for all needed conditions"
   ]
  },
  {
   "cell_type": "code",
   "execution_count": null,
   "metadata": {},
   "outputs": [],
   "source": [
    "import mne\n",
    "import numpy as np\n",
    "import os\n",
    "import sys\n",
    "\n",
    "os.environ['MNE_3D_OPTION_ANTIALIAS']='false' # to make visualization work\n",
    "\n",
    "current_dir = os.path.dirname(os.path.abspath('./'))\n",
    "if not current_dir in sys.path:\n",
    "    sys.path.append(current_dir)\n",
    "\n",
    "import matplotlib.pyplot as pltM\n"
   ]
  },
  {
   "cell_type": "code",
   "execution_count": null,
   "metadata": {},
   "outputs": [],
   "source": [
    "сlass Subject:\n",
    "    def __init_(self, subject, info, ...):\n",
    "        self.subject = subject\n",
    "        ..."
   ]
  },
  {
   "cell_type": "code",
   "execution_count": null,
   "metadata": {},
   "outputs": [],
   "source": [
    "# set frequency bands\n",
    "theta = (4., 8.)\n",
    "alpha = (8., 15.)\n",
    "beta = (15., 30.)\n",
    "gamma = (30., 60.)\n",
    "freq_bands = [theta, alpha, beta, gamma]"
   ]
  },
  {
   "cell_type": "code",
   "execution_count": null,
   "metadata": {},
   "outputs": [],
   "source": [
    "subjects_dir = 'D:\\\\Ekaterina_Voevodina\\\\memory_formation\\\\data\\\\subjects'\n",
    "for subject in os.listdir(subjects_dir):\n",
    "    subject_dir = os.path.join(subjects_dir, subject)\n",
    "    stc_post_dir = os.path.join(subject_dir, 'source_rec')\n",
    "    stc_pre_dir = os.path.join(subject_dir, 'source_rec', 'prestim_bl')\n",
    "    for freq_band in freq_bands:\n",
    "        stc_hits_post_path = os.path.join(stc_post_dir, f'stc_hits_{freq_band}_{subject}-stc.h5')\n",
    "        stc_miss_post_path = os.path.join(stc_post_dir, f'stc_miss_{freq_band}_{subject}-stc.h5')\n",
    "        stc_diff_post_path = os.path.join(stc_post_dir, f'stc_diff_{freq_band}_{subject}-stc.h5')\n",
    "        stc_hits_post = mne.read_source_estimate(stc_hits_post_path)\n",
    "        stc_miss_post = mne.read_source_estimate(stc_miss_post_path)\n",
    "        stc_diff_post = mne.read_source_estimate(stc_diff_post_path)\n",
    "        for stc_post in [stc_hits_post, stc_miss_post, stc_diff_post]:\n",
    "            \n",
    "\n",
    "        stc_hits_pre_path = os.path.join(stc_pre_dir, f'stc_hits_{freq_band}_{subject}-stc.h5')\n",
    "        stc_miss_pre_path = os.path.join(stc_pre_dir, f'stc_miss_{freq_band}_{subject}-stc.h5')\n",
    "        stc_diff_pre_path = os.path.join(stc_pre_dir, f'stc_diff_hits_VS_miss_{freq_band}_{subject}-stc.h5')\n",
    "        stc_hits_pre = mne.read_source_estimate(stc_hits_pre_path)\n",
    "        stc_miss_pre = mne.read_source_estimate(stc_miss_pre_path)\n",
    "        stc_diff_pre = mne.read_source_estimate(stc_diff_pre_path)\n",
    "        \n",
    "        if freq_band == theta:\n",
    "           ...\n",
    "        elif freq_band == alpha:\n",
    "            ...\n",
    "        elif freq_band == beta:\n",
    "            ...\n",
    "        else:\n",
    "            ..."
   ]
  },
  {
   "cell_type": "code",
   "execution_count": null,
   "metadata": {},
   "outputs": [],
   "source": [
    "# POSTSTIM BASELINE: 3.25 3.75\n",
    "stc_post_dir = 'D:\\\\Ekaterina_Voevodina\\\\memory_formation\\\\data\\\\subjects\\\\sub2\\\\source_rec'\n",
    "stc_hits_post_path = os.path.join(stc_post_dir, 'stc_hits_(4.0, 8.0)_sub2-stc.h5')\n",
    "stc_miss_post_path = os.path.join(stc_post_dir, 'stc_miss_(4.0, 8.0)_sub2-stc.h5')\n",
    "stc_diff_post_path = os.path.join(stc_post_dir, 'stc_diff_(4.0, 8.0)_sub2-stc.h5')\n",
    "stc_hits_post = mne.read_source_estimate(stc_hits_post_path)\n",
    "stc_miss_post = mne.read_source_estimate(stc_miss_post_path)\n",
    "stc_diff_post = mne.read_source_estimate(stc_diff_post_path)"
   ]
  },
  {
   "cell_type": "code",
   "execution_count": null,
   "metadata": {},
   "outputs": [],
   "source": [
    "# PRETSTIM BASELINE: -0.5 0.\n",
    "stc_pre_dir = 'D:\\\\Ekaterina_Voevodina\\\\memory_formation\\\\data\\\\subjects\\\\sub2\\\\source_rec\\\\prestim_bl'\n",
    "stc_hits_pre_path = os.path.join(stc_pre_dir, 'stc_hits_(4.0, 8.0)_sub2-stc.h5')\n",
    "stc_miss_pre_path = os.path.join(stc_pre_dir, 'stc_miss_(4.0, 8.0)_sub2-stc.h5')\n",
    "stc_diff_pre_path = os.path.join(stc_pre_dir, 'stc_diff_hits_VS_miss_(4.0, 8.0)_sub2-stc.h5')\n",
    "stc_hits_pre = mne.read_source_estimate(stc_hits_pre_path)\n",
    "stc_miss_pre = mne.read_source_estimate(stc_miss_pre_path)\n",
    "stc_diff_pre = mne.read_source_estimate(stc_diff_pre_path)\n"
   ]
  },
  {
   "cell_type": "code",
   "execution_count": null,
   "metadata": {},
   "outputs": [],
   "source": [
    "# # fetch and update fsaverage\n",
    "# #! DON'T LAUNCH ANY MORE\n",
    "# fs_ave = mne.datasets.fetch_fsaverage(subjects_dir=mris_dir)"
   ]
  },
  {
   "cell_type": "code",
   "execution_count": null,
   "metadata": {},
   "outputs": [],
   "source": [
    "mris_dir = 'D:\\\\Ekaterina_Voevodina\\\\memory_formation\\\\data\\\\mri'\n",
    "fsaverage_src_path = os.path.join(mris_dir, 'fsaverage', 'bem', 'fsaverage-ico-5-src.fif')"
   ]
  },
  {
   "cell_type": "code",
   "execution_count": null,
   "metadata": {},
   "outputs": [],
   "source": [
    "# visualize the sources and save the movie\n",
    "# see the variables in src_rec.ipynb\n",
    "#! ONLY for GROUP analysis\n",
    "#! better to set autoscale and seve the figure manually\n",
    "\n",
    "source_dir = os.path.join(subject_dir, 'source_rec')\n",
    "movie_dir = os.path.join(source_dir, 'movie')\n",
    "check_paths(source_dir, movie_dir)\n",
    "movie_path = os.path.join(movie_dir, 'sources_all_post.mp4')\n",
    "\n",
    "lims = [0.3, 0.45, 0.6]\n",
    "kwargs = dict(src=src, subject=subject, subjects_dir=mris_dir,\n",
    "              initial_time=None, verbose=True)\n",
    "\n",
    "%matplotlib inline\n",
    "fig = stc_av.plot(hemi='both', views=['dorsal', 'ventral'], clim=dict(kind='value', pos_lims=lims), **kwargs)\n",
    "fig.save_movie(filename=movie_path, time_dilation=4.0, tmin=-1.0, tmax=2.0)"
   ]
  },
  {
   "cell_type": "code",
   "execution_count": null,
   "metadata": {},
   "outputs": [
    {
     "ename": "ValueError",
     "evalue": "vertices do not match between morph (4098) and stc (4094) for left hemisphere:\n[    19    225    336 ... 158318 158352 158370]\n[    19    225    336 ... 158318 158352 158370]\nPerhaps src_to=fwd[\"src\"] needs to be passed when calling compute_source_morph. Vertices were likely excluded during forward computation.",
     "output_type": "error",
     "traceback": [
      "\u001b[1;31m---------------------------------------------------------------------------\u001b[0m\n",
      "\u001b[1;31mValueError\u001b[0m                                Traceback (most recent call last)\n",
      "Cell \u001b[1;32mIn [18], line 2\u001b[0m\n",
      "\u001b[0;32m      1\u001b[0m \u001b[38;5;66;03m# Create a SourceMorph from one subject to another\u001b[39;00m\n",
      "\u001b[1;32m----> 2\u001b[0m stc_fs \u001b[38;5;241m=\u001b[39m \u001b[43mmne\u001b[49m\u001b[38;5;241;43m.\u001b[39;49m\u001b[43mcompute_source_morph\u001b[49m\u001b[43m(\u001b[49m\u001b[43msrc\u001b[49m\u001b[43m,\u001b[49m\u001b[43m \u001b[49m\u001b[43msubject_from\u001b[49m\u001b[38;5;241;43m=\u001b[39;49m\u001b[38;5;124;43m'\u001b[39;49m\u001b[38;5;124;43msub2\u001b[39;49m\u001b[38;5;124;43m'\u001b[39;49m\u001b[43m,\u001b[49m\u001b[43m \u001b[49m\u001b[43msubject_to\u001b[49m\u001b[38;5;241;43m=\u001b[39;49m\u001b[38;5;124;43m'\u001b[39;49m\u001b[38;5;124;43mfsaverage\u001b[39;49m\u001b[38;5;124;43m'\u001b[39;49m\u001b[43m,\u001b[49m\u001b[43m \u001b[49m\u001b[43msubjects_dir\u001b[49m\u001b[38;5;241;43m=\u001b[39;49m\u001b[43mmris_dir\u001b[49m\u001b[43m)\u001b[49m\u001b[38;5;241;43m.\u001b[39;49m\u001b[43mapply\u001b[49m\u001b[43m(\u001b[49m\u001b[43mstc\u001b[49m\u001b[43m)\u001b[49m\n",
      "\u001b[0;32m      3\u001b[0m stc_fs\u001b[38;5;241m.\u001b[39mplot()\n",
      "\n",
      "File \u001b[1;32m<decorator-gen-379>:12\u001b[0m, in \u001b[0;36mapply\u001b[1;34m(self, stc_from, output, mri_resolution, mri_space, verbose)\u001b[0m\n",
      "\n",
      "File \u001b[1;32md:\\Ekaterina_Voevodina\\memory_formation\\venv\\lib\\site-packages\\mne\\morph.py:464\u001b[0m, in \u001b[0;36mSourceMorph.apply\u001b[1;34m(self, stc_from, output, mri_resolution, mri_space, verbose)\u001b[0m\n",
      "\u001b[0;32m    460\u001b[0m \u001b[39mif\u001b[39;00m stc\u001b[39m.\u001b[39msubject \u001b[39m!=\u001b[39m \u001b[39mself\u001b[39m\u001b[39m.\u001b[39msubject_from:\n",
      "\u001b[0;32m    461\u001b[0m     \u001b[39mraise\u001b[39;00m \u001b[39mValueError\u001b[39;00m(\u001b[39m'\u001b[39m\u001b[39mstc_from.subject and \u001b[39m\u001b[39m'\u001b[39m\n",
      "\u001b[0;32m    462\u001b[0m                      \u001b[39m'\u001b[39m\u001b[39mmorph.subject_from must match. (\u001b[39m\u001b[39m%s\u001b[39;00m\u001b[39m != \u001b[39m\u001b[39m%s\u001b[39;00m\u001b[39m)\u001b[39m\u001b[39m'\u001b[39m \u001b[39m%\u001b[39m\n",
      "\u001b[0;32m    463\u001b[0m                      (stc\u001b[39m.\u001b[39msubject, \u001b[39mself\u001b[39m\u001b[39m.\u001b[39msubject_from))\n",
      "\u001b[1;32m--> 464\u001b[0m out \u001b[39m=\u001b[39m _apply_morph_data(\u001b[39mself\u001b[39;49m, stc)\n",
      "\u001b[0;32m    465\u001b[0m \u001b[39mif\u001b[39;00m output \u001b[39m!=\u001b[39m \u001b[39m'\u001b[39m\u001b[39mstc\u001b[39m\u001b[39m'\u001b[39m:  \u001b[39m# convert to volume\u001b[39;00m\n",
      "\u001b[0;32m    466\u001b[0m     out \u001b[39m=\u001b[39m _morphed_stc_as_volume(\n",
      "\u001b[0;32m    467\u001b[0m         \u001b[39mself\u001b[39m, out, mri_resolution\u001b[39m=\u001b[39mmri_resolution, mri_space\u001b[39m=\u001b[39mmri_space,\n",
      "\u001b[0;32m    468\u001b[0m         output\u001b[39m=\u001b[39moutput)\n",
      "\n",
      "File \u001b[1;32md:\\Ekaterina_Voevodina\\memory_formation\\venv\\lib\\site-packages\\mne\\morph.py:1365\u001b[0m, in \u001b[0;36m_apply_morph_data\u001b[1;34m(morph, stc_from)\u001b[0m\n",
      "\u001b[0;32m   1361\u001b[0m \u001b[39mif\u001b[39;00m do_surf:\n",
      "\u001b[0;32m   1362\u001b[0m     \u001b[39mfor\u001b[39;00m hemi, v1, v2 \u001b[39min\u001b[39;00m \u001b[39mzip\u001b[39m((\u001b[39m'\u001b[39m\u001b[39mleft\u001b[39m\u001b[39m'\u001b[39m, \u001b[39m'\u001b[39m\u001b[39mright\u001b[39m\u001b[39m'\u001b[39m),\n",
      "\u001b[0;32m   1363\u001b[0m                             morph\u001b[39m.\u001b[39msrc_data[\u001b[39m'\u001b[39m\u001b[39mvertices_from\u001b[39m\u001b[39m'\u001b[39m],\n",
      "\u001b[0;32m   1364\u001b[0m                             stc_from\u001b[39m.\u001b[39mvertices[:\u001b[39m2\u001b[39m]):\n",
      "\u001b[1;32m-> 1365\u001b[0m         _check_vertices_match(v1, v2, \u001b[39m'\u001b[39;49m\u001b[39m%s\u001b[39;49;00m\u001b[39m hemisphere\u001b[39;49m\u001b[39m'\u001b[39;49m \u001b[39m%\u001b[39;49m (hemi,))\n",
      "\u001b[0;32m   1366\u001b[0m     from_sl \u001b[39m=\u001b[39m \u001b[39mslice\u001b[39m(\u001b[39m0\u001b[39m, from_surf_stop)\n",
      "\u001b[0;32m   1367\u001b[0m     \u001b[39massert\u001b[39;00m \u001b[39mnot\u001b[39;00m from_used[from_sl]\u001b[39m.\u001b[39many()\n",
      "\n",
      "File \u001b[1;32md:\\Ekaterina_Voevodina\\memory_formation\\venv\\lib\\site-packages\\mne\\morph.py:1291\u001b[0m, in \u001b[0;36m_check_vertices_match\u001b[1;34m(v1, v2, name)\u001b[0m\n",
      "\u001b[0;32m   1289\u001b[0m \u001b[39mif\u001b[39;00m np\u001b[39m.\u001b[39min1d(v2, v1)\u001b[39m.\u001b[39mall():\n",
      "\u001b[0;32m   1290\u001b[0m     ext \u001b[39m=\u001b[39m \u001b[39m'\u001b[39m\u001b[39m Vertices were likely excluded during forward computation.\u001b[39m\u001b[39m'\u001b[39m\n",
      "\u001b[1;32m-> 1291\u001b[0m \u001b[39mraise\u001b[39;00m \u001b[39mValueError\u001b[39;00m(\n",
      "\u001b[0;32m   1292\u001b[0m     \u001b[39m'\u001b[39m\u001b[39mvertices do not match between morph (\u001b[39m\u001b[39m%s\u001b[39;00m\u001b[39m) and stc (\u001b[39m\u001b[39m%s\u001b[39;00m\u001b[39m) for \u001b[39m\u001b[39m%s\u001b[39;00m\u001b[39m:\u001b[39m\u001b[39m\\n\u001b[39;00m\u001b[39m%s\u001b[39;00m\u001b[39m'\u001b[39m\n",
      "\u001b[0;32m   1293\u001b[0m     \u001b[39m'\u001b[39m\u001b[39m\\n\u001b[39;00m\u001b[39m%s\u001b[39;00m\u001b[39m\\n\u001b[39;00m\u001b[39mPerhaps src_to=fwd[\u001b[39m\u001b[39m\"\u001b[39m\u001b[39msrc\u001b[39m\u001b[39m\"\u001b[39m\u001b[39m] needs to be passed when calling \u001b[39m\u001b[39m'\u001b[39m\n",
      "\u001b[0;32m   1294\u001b[0m     \u001b[39m'\u001b[39m\u001b[39mcompute_source_morph.\u001b[39m\u001b[39m%s\u001b[39;00m\u001b[39m'\u001b[39m \u001b[39m%\u001b[39m (\u001b[39mlen\u001b[39m(v1), \u001b[39mlen\u001b[39m(v2), name, v1, v2, ext))\n",
      "\n",
      "\u001b[1;31mValueError\u001b[0m: vertices do not match between morph (4098) and stc (4094) for left hemisphere:\n",
      "[    19    225    336 ... 158318 158352 158370]\n",
      "[    19    225    336 ... 158318 158352 158370]\n",
      "Perhaps src_to=fwd[\"src\"] needs to be passed when calling compute_source_morph. Vertices were likely excluded during forward computation."
     ]
    }
   ],
   "source": [
    "# Create a SourceMorph from one subject to another\n",
    "# see the variables in src_rec.ipynb\n",
    "stc_fs = mne.compute_source_morph(src, subject_from='sub2', subject_to='fsaverage', subjects_dir=mris_dir).apply(stc)\n",
    "stc_fs.plot()"
   ]
  }
 ],
 "metadata": {
  "kernelspec": {
   "display_name": "Python 3.10.7 64-bit",
   "language": "python",
   "name": "python3"
  },
  "language_info": {
   "name": "python",
   "version": "3.10.7"
  },
  "orig_nbformat": 4,
  "vscode": {
   "interpreter": {
    "hash": "a524bf9124eab6af6be8696dbe1653ba4ef38fd45d54bfe710de2028624ba7ad"
   }
  }
 },
 "nbformat": 4,
 "nbformat_minor": 2
}
