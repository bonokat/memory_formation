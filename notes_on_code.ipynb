{
 "cells": [
  {
   "cell_type": "markdown",
   "metadata": {},
   "source": [
    "HOW TO TRANSFER DATA TO GITHUB\n",
    "\n",
    "git\n",
    "\n",
    "git status - посмотреть текущее состояние гита\n",
    "git add --all -добавить все новые изменения в гит\n",
    "git commit -a -m \"any comments\" - сохраняем изменения = создаём коммит\n",
    "git log - посмотреть историю коммитов -> копируем хэш -> git checkout\n",
    "\n",
    "git push - загрузить на сервер"
   ]
  },
  {
   "cell_type": "markdown",
   "metadata": {},
   "source": [
    "Launch the script:\n",
    ".\\venv\\Scripts\\python .\\name_of_the_script.format\n",
    "\n",
    "Install packages:\n",
    "./venv/Scripts/pip install name_of_package"
   ]
  },
  {
   "cell_type": "markdown",
   "metadata": {},
   "source": [
    "Annotate:\n",
    "1) if __name__ == '__main__':  - https://youtu.be/g_wlZ9IhbTs\n",
    "\n",
    "2) root = '.\\\\' and root = '../'\n",
    "./ или .\\\\ - эта директория\n",
    "../ или .\\\\ - на директорию выше\n",
    "\n",
    "3) stim_chs = raw.copy().pick_types(meg=False, stim=True).info['ch_names'] - wtf is going on here???\n",
    "new_raw = raw.copy()\n",
    "new_raw_with_only_stim = new_raw.pick_types(meg=False, stim=True)\n",
    "info_from_new_raw_with_only_stim = new_raw_with_only_stim.info\n",
    "stim_channel_names = info_from_new_raw_with_only_stim['ch_names']\n",
    "\n",
    "4) events = mne.find_events(raw, stim_chs, min_duration=.01) - по какому принципу подаются переменные?\n",
    "5) if len(raw.annotations) != 0: - file raw, annotations ???? how we join them ??? что делает точечка? :'(((\n",
    "6) annotations = create_annotations(lines) - вот в этих трёх строчках не понимаю логику\n",
    "                raw.set_annotations(annotations)\n",
    "                raw = annotate_raw(raw, events)\n",
    "Создаем аннотации из текстового файла\n",
    "Устанавливаем эти аннотации в raw object\n",
    "Открываем окно в котором можно сделать новые аннотации. В окне будут также видны те аннотации которые мы уже установили строчкой выше\n",
    "\n",
    "Events:\n",
    "1) events_ids[event] = id - what happens here?"
   ]
  },
  {
   "cell_type": "markdown",
   "metadata": {},
   "source": [
    "np.array\n",
    "У этого объекта, в отличие от list есть форма (shape), возможность обращаться к конкретным строкам или столбцам, функции для нахождения максимума, минимума, среднего, среднеквадратичного отклонения. Также его можно транспонировать. Так же два массива np.array можно умножать или умножать матрично. Также их можно складывать и вычитать"
   ]
  },
  {
   "cell_type": "markdown",
   "metadata": {},
   "source": [
    "Parameters - что создаём\n",
    "Attributes - что обрабатываем"
   ]
  },
  {
   "cell_type": "markdown",
   "metadata": {},
   "source": [
    "vars - представляет любой класс как словарь\n",
    "Пример:\n",
    "from_,\\\n",
    "    to = vars(parser.parse_args()).values()"
   ]
  },
  {
   "cell_type": "markdown",
   "metadata": {},
   "source": [
    "__init__ - инициализация класса\n",
    "__str__ - строковое представление класса\n",
    "__dict__ - превращение объекта в словарь"
   ]
  },
  {
   "cell_type": "markdown",
   "metadata": {},
   "source": [
    "Only for Jupiter Notebooks:\n",
    "%matplotlib qt - вывод графика в отдельное окно\n",
    "%matplotlib inline - вывод графика под окно с кодом"
   ]
  },
  {
   "cell_type": "markdown",
   "metadata": {},
   "source": [
    "Обратная соместимость - новая версия программы совместима с предыдущей версией и добавляет новый функционал."
   ]
  },
  {
   "cell_type": "code",
   "execution_count": null,
   "metadata": {},
   "outputs": [],
   "source": [
    "# asfkgsnflkqnflksdnfl\n",
    "# saflknslaansfolsaf\n",
    "# ! asl;flkafnlkasf\n",
    "# ? aslkfnlknalkfns\n",
    "# * aslknfskajskjdbkfa]\n",
    "\n",
    "anycontent:anyfunc # ctrl + ;\n",
    "anyfunc(anycontent)\n",
    "\n",
    "# TODO: Here we neeed some new feature\n",
    "\n",
    "# FIXME: Here we have some bug and we need to fix it in future\n",
    "\n",
    "# lc\n",
    "a = [value for value in iterable]\n",
    "\n",
    "# lci\n",
    "[value for value in iterable if condition]\n",
    "\n",
    "# lcie\n",
    "[value if condition else condition for value in iterable]\n",
    "\n",
    "\n",
    "# class\n",
    "class aaaaaaa(assadasddsa):\n",
    "    \"\"\"asdasdasasdasd\"\"\"\n",
    "    def __init__(self, asdasdadsdas):\n",
    "        super(aaaaaaa, self).__init__()\n",
    "    asdasdadsdas\n",
    "\n",
    "#defs\n",
    "def mname(self, arg):\n",
    "    pass\n",
    "\n",
    "#property\n",
    "@property\n",
    "def foo(self):\n",
    "    \"\"\"The foo property.\"\"\"\n",
    "    return self._foo\n",
    "@foo.setter\n",
    "def foo(self, value):\n",
    "    self._foo = value\n",
    "\n",
    "#def\n",
    "def fname(arg):\n",
    "    pass\n",
    "\n",
    "#if\n",
    "if condition:\n",
    "    pass\n",
    "\n",
    "#ifmain\n",
    "if __name__ == \"__main__\":\n",
    "    main()()"
   ]
  },
  {
   "cell_type": "code",
   "execution_count": null,
   "metadata": {},
   "outputs": [],
   "source": [
    "class Foo:\n",
    "    def __init__(self, a, b) -> None:\n",
    "        self.c = a + b\n",
    "\n",
    "Foo(1, 2)"
   ]
  },
  {
   "cell_type": "markdown",
   "metadata": {},
   "source": [
    "Main py errors:\n",
    "\n",
    "KeyError - this key does not exist in the dict\n",
    "ValueError - Wrong value\n",
    "IndexError - this index does not exist in the list\n",
    "OSError - iternal os error\n",
    "FileNotFoundError\n",
    "FileExistsError - this file already exists (if you are trying to create (not overwrite) existing file)\n",
    "TypeError - You are trying to use this type incorrectly (f.e. trying to call \"len\" to the class without __len__ method)\n",
    "NotImplementedError - If you are trying to use a functionality that does not exist yet\n",
    "AttributeError - If you are trying to use class attribute in a wrong way\n",
    "AssetionError - Error caused by \"assert\" operator\n",
    "StopIterationError - Error to stop iteration"
   ]
  },
  {
   "cell_type": "markdown",
   "metadata": {},
   "source": [
    "map & filter\n",
    "\n",
    "The built-in function map() takes a function as a first argument and applies it to each of the elements of its second argument, an iterable. map() returns an iterator corresponding to the transformed collection.\n",
    "e.g.:\n",
    ">>> list(map(lambda x: x.capitalize(), ['cat', 'dog', 'cow']))\n",
    "['Cat', 'Dog', 'Cow']\n",
    "\n",
    "\n",
    "filter() takes a predicate as a first argument and an iterable as a second argument. It builds an iterator containing all the elements of the initial collection that satisfies the predicate function. Note that filter() returns an iterator, hence the need to invoke the built-in type list that constructs a list given an iterator.\n",
    "e.g.:\n",
    ">>> even = lambda x: x%2 == 0\n",
    ">>> list(filter(even, range(11)))\n",
    "[0, 2, 4, 6, 8, 10]"
   ]
  },
  {
   "cell_type": "code",
   "execution_count": null,
   "metadata": {},
   "outputs": [],
   "source": []
  }
 ],
 "metadata": {
  "kernelspec": {
   "display_name": "Python 3.10.7 64-bit",
   "language": "python",
   "name": "python3"
  },
  "language_info": {
   "name": "python",
   "version": "3.10.7"
  },
  "orig_nbformat": 4,
  "vscode": {
   "interpreter": {
    "hash": "a524bf9124eab6af6be8696dbe1653ba4ef38fd45d54bfe710de2028624ba7ad"
   }
  }
 },
 "nbformat": 4,
 "nbformat_minor": 2
}
